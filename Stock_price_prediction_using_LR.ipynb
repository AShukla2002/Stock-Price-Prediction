{
  "cells": [
    {
      "attachments": {},
      "cell_type": "markdown",
      "metadata": {},
      "source": [
        "# Stock Price Prediction Using Linear Regression"
      ]
    },
    {
      "attachments": {},
      "cell_type": "markdown",
      "metadata": {},
      "source": [
        "##### Importing the libraries"
      ]
    },
    {
      "cell_type": "code",
      "execution_count": 1,
      "metadata": {
        "id": "HBTBwktHrc1Z"
      },
      "outputs": [],
      "source": [
        "import pandas as pd\n",
        "import numpy as np\n",
        "import plotly.graph_objs as go"
      ]
    },
    {
      "attachments": {},
      "cell_type": "markdown",
      "metadata": {},
      "source": [
        "Loading the training dataset"
      ]
    },
    {
      "cell_type": "code",
      "execution_count": 2,
      "metadata": {
        "colab": {
          "base_uri": "https://localhost:8080/",
          "height": 206
        },
        "id": "IfQC3KHgrc1d",
        "outputId": "65e8467f-870d-41c4-ed6e-187aa3b11576"
      },
      "outputs": [
        {
          "data": {
            "text/html": [
              "<div>\n",
              "<style scoped>\n",
              "    .dataframe tbody tr th:only-of-type {\n",
              "        vertical-align: middle;\n",
              "    }\n",
              "\n",
              "    .dataframe tbody tr th {\n",
              "        vertical-align: top;\n",
              "    }\n",
              "\n",
              "    .dataframe thead th {\n",
              "        text-align: right;\n",
              "    }\n",
              "</style>\n",
              "<table border=\"1\" class=\"dataframe\">\n",
              "  <thead>\n",
              "    <tr style=\"text-align: right;\">\n",
              "      <th></th>\n",
              "      <th>Date</th>\n",
              "      <th>Open</th>\n",
              "      <th>High</th>\n",
              "      <th>Low</th>\n",
              "      <th>Close</th>\n",
              "      <th>Adj Close</th>\n",
              "      <th>Volume</th>\n",
              "    </tr>\n",
              "  </thead>\n",
              "  <tbody>\n",
              "    <tr>\n",
              "      <th>0</th>\n",
              "      <td>2018-08-13</td>\n",
              "      <td>1236.979980</td>\n",
              "      <td>1249.272949</td>\n",
              "      <td>1233.640991</td>\n",
              "      <td>1235.010010</td>\n",
              "      <td>1235.010010</td>\n",
              "      <td>997300</td>\n",
              "    </tr>\n",
              "    <tr>\n",
              "      <th>1</th>\n",
              "      <td>2018-08-14</td>\n",
              "      <td>1235.189941</td>\n",
              "      <td>1245.869995</td>\n",
              "      <td>1225.109985</td>\n",
              "      <td>1242.099976</td>\n",
              "      <td>1242.099976</td>\n",
              "      <td>1348100</td>\n",
              "    </tr>\n",
              "    <tr>\n",
              "      <th>2</th>\n",
              "      <td>2018-08-15</td>\n",
              "      <td>1229.260010</td>\n",
              "      <td>1235.239990</td>\n",
              "      <td>1209.510010</td>\n",
              "      <td>1214.380005</td>\n",
              "      <td>1214.380005</td>\n",
              "      <td>1828800</td>\n",
              "    </tr>\n",
              "    <tr>\n",
              "      <th>3</th>\n",
              "      <td>2018-08-16</td>\n",
              "      <td>1224.729980</td>\n",
              "      <td>1226.000000</td>\n",
              "      <td>1202.550049</td>\n",
              "      <td>1206.489990</td>\n",
              "      <td>1206.489990</td>\n",
              "      <td>1343200</td>\n",
              "    </tr>\n",
              "    <tr>\n",
              "      <th>4</th>\n",
              "      <td>2018-08-17</td>\n",
              "      <td>1202.030029</td>\n",
              "      <td>1209.020020</td>\n",
              "      <td>1188.239990</td>\n",
              "      <td>1200.959961</td>\n",
              "      <td>1200.959961</td>\n",
              "      <td>1389600</td>\n",
              "    </tr>\n",
              "  </tbody>\n",
              "</table>\n",
              "</div>"
            ],
            "text/plain": [
              "         Date         Open         High          Low        Close  \\\n",
              "0  2018-08-13  1236.979980  1249.272949  1233.640991  1235.010010   \n",
              "1  2018-08-14  1235.189941  1245.869995  1225.109985  1242.099976   \n",
              "2  2018-08-15  1229.260010  1235.239990  1209.510010  1214.380005   \n",
              "3  2018-08-16  1224.729980  1226.000000  1202.550049  1206.489990   \n",
              "4  2018-08-17  1202.030029  1209.020020  1188.239990  1200.959961   \n",
              "\n",
              "     Adj Close   Volume  \n",
              "0  1235.010010   997300  \n",
              "1  1242.099976  1348100  \n",
              "2  1214.380005  1828800  \n",
              "3  1206.489990  1343200  \n",
              "4  1200.959961  1389600  "
            ]
          },
          "execution_count": 2,
          "metadata": {},
          "output_type": "execute_result"
        }
      ],
      "source": [
        "google = pd.read_csv('Google_test_data.csv')\n",
        "google.head()"
      ]
    },
    {
      "attachments": {},
      "cell_type": "markdown",
      "metadata": {},
      "source": [
        "Summary of the dataset"
      ]
    },
    {
      "cell_type": "code",
      "execution_count": 3,
      "metadata": {
        "colab": {
          "base_uri": "https://localhost:8080/"
        },
        "id": "j_C4tPgmrc1e",
        "outputId": "4f4d12ca-5094-4dce-823c-6bb855ca64f6"
      },
      "outputs": [
        {
          "name": "stdout",
          "output_type": "stream",
          "text": [
            "<class 'pandas.core.frame.DataFrame'>\n",
            "RangeIndex: 252 entries, 0 to 251\n",
            "Data columns (total 7 columns):\n",
            " #   Column     Non-Null Count  Dtype  \n",
            "---  ------     --------------  -----  \n",
            " 0   Date       252 non-null    object \n",
            " 1   Open       252 non-null    float64\n",
            " 2   High       252 non-null    float64\n",
            " 3   Low        252 non-null    float64\n",
            " 4   Close      252 non-null    float64\n",
            " 5   Adj Close  252 non-null    float64\n",
            " 6   Volume     252 non-null    int64  \n",
            "dtypes: float64(5), int64(1), object(1)\n",
            "memory usage: 13.9+ KB\n"
          ]
        }
      ],
      "source": [
        "google.info()"
      ]
    },
    {
      "attachments": {},
      "cell_type": "markdown",
      "metadata": {},
      "source": [
        "Preprocessing the data"
      ]
    },
    {
      "cell_type": "code",
      "execution_count": 4,
      "metadata": {
        "id": "F8EErM2lrc1e"
      },
      "outputs": [],
      "source": [
        "google['Date'] = pd.to_datetime(google['Date'])"
      ]
    },
    {
      "cell_type": "code",
      "execution_count": 5,
      "metadata": {
        "colab": {
          "base_uri": "https://localhost:8080/"
        },
        "id": "x11mL0SQrc1f",
        "outputId": "e304821b-88b2-47f8-a525-56ecdc8ab592"
      },
      "outputs": [
        {
          "name": "stdout",
          "output_type": "stream",
          "text": [
            "Dataframe contains stock prices between 2018-08-13 00:00:00 2019-08-13 00:00:00\n",
            "Total days = 365 days\n"
          ]
        }
      ],
      "source": [
        "print(f'Dataframe contains stock prices between {google.Date.min()} {google.Date.max()}') \n",
        "print(f'Total days = {(google.Date.max()  - google.Date.min()).days} days')"
      ]
    },
    {
      "cell_type": "code",
      "execution_count": 6,
      "metadata": {
        "colab": {
          "base_uri": "https://localhost:8080/",
          "height": 300
        },
        "id": "Vwt0THaorc1f",
        "outputId": "685f0c68-6703-4f56-f974-aee38c70aac1"
      },
      "outputs": [
        {
          "data": {
            "text/html": [
              "<div>\n",
              "<style scoped>\n",
              "    .dataframe tbody tr th:only-of-type {\n",
              "        vertical-align: middle;\n",
              "    }\n",
              "\n",
              "    .dataframe tbody tr th {\n",
              "        vertical-align: top;\n",
              "    }\n",
              "\n",
              "    .dataframe thead th {\n",
              "        text-align: right;\n",
              "    }\n",
              "</style>\n",
              "<table border=\"1\" class=\"dataframe\">\n",
              "  <thead>\n",
              "    <tr style=\"text-align: right;\">\n",
              "      <th></th>\n",
              "      <th>Open</th>\n",
              "      <th>High</th>\n",
              "      <th>Low</th>\n",
              "      <th>Close</th>\n",
              "      <th>Adj Close</th>\n",
              "      <th>Volume</th>\n",
              "    </tr>\n",
              "  </thead>\n",
              "  <tbody>\n",
              "    <tr>\n",
              "      <th>count</th>\n",
              "      <td>252.000000</td>\n",
              "      <td>252.000000</td>\n",
              "      <td>252.000000</td>\n",
              "      <td>252.000000</td>\n",
              "      <td>252.000000</td>\n",
              "      <td>2.520000e+02</td>\n",
              "    </tr>\n",
              "    <tr>\n",
              "      <th>mean</th>\n",
              "      <td>1131.925615</td>\n",
              "      <td>1143.037319</td>\n",
              "      <td>1120.368111</td>\n",
              "      <td>1131.963092</td>\n",
              "      <td>1131.963092</td>\n",
              "      <td>1.613059e+06</td>\n",
              "    </tr>\n",
              "    <tr>\n",
              "      <th>std</th>\n",
              "      <td>64.187732</td>\n",
              "      <td>61.947013</td>\n",
              "      <td>66.312745</td>\n",
              "      <td>64.872818</td>\n",
              "      <td>64.872818</td>\n",
              "      <td>7.319624e+05</td>\n",
              "    </tr>\n",
              "    <tr>\n",
              "      <th>min</th>\n",
              "      <td>973.900024</td>\n",
              "      <td>1003.539978</td>\n",
              "      <td>970.109985</td>\n",
              "      <td>976.219971</td>\n",
              "      <td>976.219971</td>\n",
              "      <td>6.915000e+05</td>\n",
              "    </tr>\n",
              "    <tr>\n",
              "      <th>25%</th>\n",
              "      <td>1079.867493</td>\n",
              "      <td>1092.682464</td>\n",
              "      <td>1068.087525</td>\n",
              "      <td>1079.680023</td>\n",
              "      <td>1079.680023</td>\n",
              "      <td>1.202525e+06</td>\n",
              "    </tr>\n",
              "    <tr>\n",
              "      <th>50%</th>\n",
              "      <td>1130.579956</td>\n",
              "      <td>1141.875000</td>\n",
              "      <td>1119.025024</td>\n",
              "      <td>1132.075012</td>\n",
              "      <td>1132.075012</td>\n",
              "      <td>1.436500e+06</td>\n",
              "    </tr>\n",
              "    <tr>\n",
              "      <th>75%</th>\n",
              "      <td>1185.037506</td>\n",
              "      <td>1193.165039</td>\n",
              "      <td>1171.849976</td>\n",
              "      <td>1184.837524</td>\n",
              "      <td>1184.837524</td>\n",
              "      <td>1.837200e+06</td>\n",
              "    </tr>\n",
              "    <tr>\n",
              "      <th>max</th>\n",
              "      <td>1274.000000</td>\n",
              "      <td>1289.270020</td>\n",
              "      <td>1266.295044</td>\n",
              "      <td>1287.579956</td>\n",
              "      <td>1287.579956</td>\n",
              "      <td>6.207000e+06</td>\n",
              "    </tr>\n",
              "  </tbody>\n",
              "</table>\n",
              "</div>"
            ],
            "text/plain": [
              "              Open         High          Low        Close    Adj Close  \\\n",
              "count   252.000000   252.000000   252.000000   252.000000   252.000000   \n",
              "mean   1131.925615  1143.037319  1120.368111  1131.963092  1131.963092   \n",
              "std      64.187732    61.947013    66.312745    64.872818    64.872818   \n",
              "min     973.900024  1003.539978   970.109985   976.219971   976.219971   \n",
              "25%    1079.867493  1092.682464  1068.087525  1079.680023  1079.680023   \n",
              "50%    1130.579956  1141.875000  1119.025024  1132.075012  1132.075012   \n",
              "75%    1185.037506  1193.165039  1171.849976  1184.837524  1184.837524   \n",
              "max    1274.000000  1289.270020  1266.295044  1287.579956  1287.579956   \n",
              "\n",
              "             Volume  \n",
              "count  2.520000e+02  \n",
              "mean   1.613059e+06  \n",
              "std    7.319624e+05  \n",
              "min    6.915000e+05  \n",
              "25%    1.202525e+06  \n",
              "50%    1.436500e+06  \n",
              "75%    1.837200e+06  \n",
              "max    6.207000e+06  "
            ]
          },
          "execution_count": 6,
          "metadata": {},
          "output_type": "execute_result"
        }
      ],
      "source": [
        "google.describe()"
      ]
    },
    {
      "cell_type": "code",
      "execution_count": 7,
      "metadata": {
        "colab": {
          "base_uri": "https://localhost:8080/",
          "height": 282
        },
        "id": "Tqw4D9dmrc1f",
        "outputId": "eb4cf969-9332-4e56-a1c2-9c6280aa28c3"
      },
      "outputs": [
        {
          "data": {
            "text/plain": [
              "<AxesSubplot: >"
            ]
          },
          "execution_count": 7,
          "metadata": {},
          "output_type": "execute_result"
        },
        {
          "data": {
            "image/png": "[encoded data removed]",
            "text/plain": [
              "<Figure size 640x480 with 1 Axes>"
            ]
          },
          "metadata": {},
          "output_type": "display_data"
        }
      ],
      "source": [
        "google[['Open','High','Low','Close','Adj Close']].plot(kind='box')"
      ]
    },
    {
      "attachments": {},
      "cell_type": "markdown",
      "metadata": {},
      "source": [
        "Layout Selection for the plot"
      ]
    },
    {
      "cell_type": "code",
      "execution_count": 8,
      "metadata": {
        "id": "8Udn3RBXrc1g"
      },
      "outputs": [],
      "source": [
        "# Setting the layout for our plot\n",
        "layout = go.Layout(\n",
        "    title='Stock Prices of Google',\n",
        "    xaxis=dict(\n",
        "        title='Date',\n",
        "        titlefont=dict(\n",
        "            family='Courier New, monospace',\n",
        "            size=18,\n",
        "            color='#7f7f7f'\n",
        "        )\n",
        "    ),\n",
        "    yaxis=dict(\n",
        "        title='Price',\n",
        "        titlefont=dict(\n",
        "            family='Courier New, monospace',\n",
        "            size=18,\n",
        "            color='#7f7f7f'\n",
        "        )\n",
        "    )\n",
        ")"
      ]
    },
    {
      "attachments": {},
      "cell_type": "markdown",
      "metadata": {},
      "source": [
        "Importing more libraries"
      ]
    },
    {
      "cell_type": "code",
      "execution_count": 9,
      "metadata": {
        "id": "zsahoZrGrc1h"
      },
      "outputs": [],
      "source": [
        "# Building the regression model\n",
        "from sklearn.model_selection import train_test_split\n",
        "\n",
        "#For preprocessing\n",
        "from sklearn.preprocessing import StandardScaler\n",
        "\n",
        "#For model evaluation\n",
        "from sklearn.metrics import mean_squared_error as mse\n",
        "from sklearn.metrics import r2_score"
      ]
    },
    {
      "attachments": {},
      "cell_type": "markdown",
      "metadata": {},
      "source": [
        "Split the data into train and test sets"
      ]
    },
    {
      "cell_type": "code",
      "execution_count": 10,
      "metadata": {
        "id": "Kb2F4xZXrc1h"
      },
      "outputs": [],
      "source": [
        "X = np.array(google.index).reshape(-1,1)\n",
        "Y = google['Close']\n",
        "X_train, X_test, Y_train, Y_test = train_test_split(X, Y, test_size=0.3, random_state=101)"
      ]
    },
    {
      "attachments": {},
      "cell_type": "markdown",
      "metadata": {},
      "source": [
        "Feature Scaling"
      ]
    },
    {
      "cell_type": "code",
      "execution_count": 11,
      "metadata": {
        "id": "1HnsZfvPrc1h"
      },
      "outputs": [],
      "source": [
        "scaler = StandardScaler().fit(X_train)"
      ]
    },
    {
      "cell_type": "code",
      "execution_count": 12,
      "metadata": {
        "id": "zSyonygWrc1i"
      },
      "outputs": [],
      "source": [
        "from sklearn.linear_model import LinearRegression"
      ]
    },
    {
      "attachments": {},
      "cell_type": "markdown",
      "metadata": {},
      "source": [
        "Creating a Linear Model"
      ]
    },
    {
      "cell_type": "code",
      "execution_count": 13,
      "metadata": {
        "colab": {
          "base_uri": "https://localhost:8080/"
        },
        "id": "oGq5ZHEprc1i",
        "outputId": "90a40c18-4d95-42cd-e63b-65ff9bb75a85"
      },
      "outputs": [
        {
          "data": {
            "text/html": [
              "<style>#sk-container-id-1 {color: black;}#sk-container-id-1 pre{padding: 0;}#sk-container-id-1 div.sk-toggleable {background-color: white;}#sk-container-id-1 label.sk-toggleable__label {cursor: pointer;display: block;width: 100%;margin-bottom: 0;padding: 0.3em;box-sizing: border-box;text-align: center;}#sk-container-id-1 label.sk-toggleable__label-arrow:before {content: \"▸\";float: left;margin-right: 0.25em;color: #696969;}#sk-container-id-1 label.sk-toggleable__label-arrow:hover:before {color: black;}#sk-container-id-1 div.sk-estimator:hover label.sk-toggleable__label-arrow:before {color: black;}#sk-container-id-1 div.sk-toggleable__content {max-height: 0;max-width: 0;overflow: hidden;text-align: left;background-color: #f0f8ff;}#sk-container-id-1 div.sk-toggleable__content pre {margin: 0.2em;color: black;border-radius: 0.25em;background-color: #f0f8ff;}#sk-container-id-1 input.sk-toggleable__control:checked~div.sk-toggleable__content {max-height: 200px;max-width: 100%;overflow: auto;}#sk-container-id-1 input.sk-toggleable__control:checked~label.sk-toggleable__label-arrow:before {content: \"▾\";}#sk-container-id-1 div.sk-estimator input.sk-toggleable__control:checked~label.sk-toggleable__label {background-color: #d4ebff;}#sk-container-id-1 div.sk-label input.sk-toggleable__control:checked~label.sk-toggleable__label {background-color: #d4ebff;}#sk-container-id-1 input.sk-hidden--visually {border: 0;clip: rect(1px 1px 1px 1px);clip: rect(1px, 1px, 1px, 1px);height: 1px;margin: -1px;overflow: hidden;padding: 0;position: absolute;width: 1px;}#sk-container-id-1 div.sk-estimator {font-family: monospace;background-color: #f0f8ff;border: 1px dotted black;border-radius: 0.25em;box-sizing: border-box;margin-bottom: 0.5em;}#sk-container-id-1 div.sk-estimator:hover {background-color: #d4ebff;}#sk-container-id-1 div.sk-parallel-item::after {content: \"\";width: 100%;border-bottom: 1px solid gray;flex-grow: 1;}#sk-container-id-1 div.sk-label:hover label.sk-toggleable__label {background-color: #d4ebff;}#sk-container-id-1 div.sk-serial::before {content: \"\";position: absolute;border-left: 1px solid gray;box-sizing: border-box;top: 0;bottom: 0;left: 50%;z-index: 0;}#sk-container-id-1 div.sk-serial {display: flex;flex-direction: column;align-items: center;background-color: white;padding-right: 0.2em;padding-left: 0.2em;position: relative;}#sk-container-id-1 div.sk-item {position: relative;z-index: 1;}#sk-container-id-1 div.sk-parallel {display: flex;align-items: stretch;justify-content: center;background-color: white;position: relative;}#sk-container-id-1 div.sk-item::before, #sk-container-id-1 div.sk-parallel-item::before {content: \"\";position: absolute;border-left: 1px solid gray;box-sizing: border-box;top: 0;bottom: 0;left: 50%;z-index: -1;}#sk-container-id-1 div.sk-parallel-item {display: flex;flex-direction: column;z-index: 1;position: relative;background-color: white;}#sk-container-id-1 div.sk-parallel-item:first-child::after {align-self: flex-end;width: 50%;}#sk-container-id-1 div.sk-parallel-item:last-child::after {align-self: flex-start;width: 50%;}#sk-container-id-1 div.sk-parallel-item:only-child::after {width: 0;}#sk-container-id-1 div.sk-dashed-wrapped {border: 1px dashed gray;margin: 0 0.4em 0.5em 0.4em;box-sizing: border-box;padding-bottom: 0.4em;background-color: white;}#sk-container-id-1 div.sk-label label {font-family: monospace;font-weight: bold;display: inline-block;line-height: 1.2em;}#sk-container-id-1 div.sk-label-container {text-align: center;}#sk-container-id-1 div.sk-container {/* jupyter's `normalize.less` sets `[hidden] { display: none; }` but bootstrap.min.css set `[hidden] { display: none !important; }` so we also need the `!important` here to be able to override the default hidden behavior on the sphinx rendered scikit-learn.org. See: https://github.com/scikit-learn/scikit-learn/issues/21755 */display: inline-block !important;position: relative;}#sk-container-id-1 div.sk-text-repr-fallback {display: none;}</style><div id=\"sk-container-id-1\" class=\"sk-top-container\"><div class=\"sk-text-repr-fallback\"><pre>LinearRegression()</pre><b>In a Jupyter environment, please rerun this cell to show the HTML representation or trust the notebook. <br />On GitHub, the HTML representation is unable to render, please try loading this page with nbviewer.org.</b></div><div class=\"sk-container\" hidden><div class=\"sk-item\"><div class=\"sk-estimator sk-toggleable\"><input class=\"sk-toggleable__control sk-hidden--visually\" id=\"sk-estimator-id-1\" type=\"checkbox\" checked><label for=\"sk-estimator-id-1\" class=\"sk-toggleable__label sk-toggleable__label-arrow\">LinearRegression</label><div class=\"sk-toggleable__content\"><pre>LinearRegression()</pre></div></div></div></div></div>"
            ],
            "text/plain": [
              "LinearRegression()"
            ]
          },
          "execution_count": 13,
          "metadata": {},
          "output_type": "execute_result"
        }
      ],
      "source": [
        "lm = LinearRegression()\n",
        "lm.fit(X_train, Y_train)"
      ]
    },
    {
      "attachments": {},
      "cell_type": "markdown",
      "metadata": {},
      "source": [
        "Plot actual and predicted values for train dataset using Linear Regression"
      ]
    },
    {
      "cell_type": "code",
      "execution_count": 14,
      "metadata": {
        "id": "gqnWEIdirc1i"
      },
      "outputs": [],
      "source": [
        "trace0 = go.Scatter(\n",
        "    x = X_train.T[0],\n",
        "    y = Y_train,\n",
        "    mode = 'markers',\n",
        "    name = 'Actual'\n",
        ")\n",
        "trace1 = go.Scatter(\n",
        "    x = X_train.T[0],\n",
        "    y = lm.predict(X_train).T,\n",
        "    mode = 'lines',\n",
        "    name = 'Predicted'\n",
        ")\n",
        "google_data = [trace0,trace1]\n",
        "layout.xaxis.title.text = 'Day'\n",
        "plot2 = go.Figure(data=google_data, layout=layout)"
      ]
    },
    {
      "cell_type": "code",
      "execution_count": 15,
      "metadata": {
        "colab": {
          "base_uri": "https://localhost:8080/",
          "height": 542
        },
        "id": "Kse2J-3nrc1i",
        "outputId": "3e5dd728-f548-4b38-cbbc-48c91a81afef"
      },
      "outputs": [
        {
          "data": {
            "application/vnd.plotly.v1+json": {
              "config": {
                "plotlyServerURL": "https://plot.ly"
              },
              "data": [
                {
                  "mode": "markers",
                  "name": "Actual",
                  "type": "scatter",
                  "x": [
                    54,
                    66,
                    215,
                    171,
                    141,
                    57,
                    208,
                    178,
                    150,
                    248,
                    16,
                    166,
                    145,
                    129,
                    186,
                    160,
                    175,
                    51,
                    18,
                    61,
                    214,
                    68,
                    79,
                    1,
                    43,
                    67,
                    118,
                    9,
                    198,
                    36,
                    121,
                    185,
                    45,
                    91,
                    230,
                    250,
                    53,
                    117,
                    144,
                    114,
                    123,
                    237,
                    217,
                    64,
                    238,
                    24,
                    212,
                    156,
                    13,
                    125,
                    52,
                    170,
                    134,
                    167,
                    187,
                    102,
                    77,
                    148,
                    229,
                    233,
                    27,
                    176,
                    100,
                    94,
                    127,
                    23,
                    21,
                    172,
                    29,
                    147,
                    131,
                    46,
                    82,
                    101,
                    194,
                    234,
                    177,
                    6,
                    120,
                    14,
                    169,
                    84,
                    228,
                    3,
                    242,
                    113,
                    202,
                    139,
                    92,
                    58,
                    195,
                    130,
                    243,
                    47,
                    213,
                    26,
                    122,
                    86,
                    209,
                    155,
                    20,
                    193,
                    10,
                    30,
                    163,
                    218,
                    124,
                    207,
                    152,
                    97,
                    17,
                    232,
                    106,
                    116,
                    0,
                    236,
                    143,
                    199,
                    71,
                    146,
                    210,
                    73,
                    38,
                    103,
                    184,
                    180,
                    216,
                    7,
                    244,
                    28,
                    99,
                    164,
                    62,
                    8,
                    201,
                    105,
                    128,
                    246,
                    107,
                    76,
                    138,
                    126,
                    19,
                    72,
                    44,
                    162,
                    59,
                    225,
                    157,
                    115,
                    136,
                    111,
                    83,
                    49,
                    241,
                    221,
                    140,
                    5,
                    110,
                    192,
                    220,
                    60,
                    168,
                    247,
                    132,
                    40,
                    205,
                    137,
                    239,
                    75,
                    87,
                    63,
                    70,
                    81,
                    11,
                    95
                  ],
                  "y": [
                    1020.080017,
                    1043.660034,
                    1121.880005,
                    1236.369995,
                    1143.300049,
                    1070,
                    1077.030029,
                    1188.47998,
                    1223.969971,
                    1204.800049,
                    1186.47998,
                    1204.619995,
                    1193.319946,
                    1118.560059,
                    1164.27002,
                    1205.920044,
                    1263.449951,
                    1050.709961,
                    1164.829956,
                    1093.390015,
                    1111.420044,
                    1061.48999,
                    1050.819946,
                    1242.099976,
                    1110.079956,
                    1064.709961,
                    1110.75,
                    1220.650024,
                    1116.459961,
                    1202.949951,
                    1115.22998,
                    1162.380005,
                    1121.280029,
                    979.539978,
                    1150.339966,
                    1174.709961,
                    1071.469971,
                    1116.369995,
                    1193.199951,
                    1070.079956,
                    1095.060059,
                    1137.810059,
                    1086.349976,
                    1038.630005,
                    1132.119995,
                    1156.050049,
                    1103.599976,
                    1168.48999,
                    1239.119995,
                    1121.369995,
                    1095.569946,
                    1236.339966,
                    1115.130005,
                    1217.869995,
                    1132.030029,
                    1074.660034,
                    1094.430054,
                    1184.26001,
                    1144.900024,
                    1146.329956,
                    1186.869995,
                    1272.180054,
                    1068.390015,
                    1043.880005,
                    1121.670044,
                    1172.530029,
                    1162.819946,
                    1248.839966,
                    1173.369995,
                    1184.459961,
                    1096.969971,
                    1115.689941,
                    1039.550049,
                    1076.280029,
                    1151.420044,
                    1130.099976,
                    1287.579956,
                    1201.619995,
                    1145.98999,
                    1218.189941,
                    1227.130005,
                    1063.680054,
                    1144.209961,
                    1206.48999,
                    1216.680054,
                    1090.98999,
                    1053.050049,
                    1162.030029,
                    976.219971,
                    1057.790039,
                    1140.77002,
                    1113.800049,
                    1209.01001,
                    1087.969971,
                    1102.329956,
                    1171.089966,
                    1098.709961,
                    1042.099976,
                    1088.77002,
                    1173.02002,
                    1177.359985,
                    1149.630005,
                    1241.819946,
                    1184.650024,
                    1203.839966,
                    1079.800049,
                    1095.01001,
                    1078.719971,
                    1205.5,
                    1045.849976,
                    1171.439941,
                    1146.349976,
                    1077.150024,
                    1089.060059,
                    1235.01001,
                    1146.209961,
                    1175.76001,
                    1117.949951,
                    1037.609985,
                    1185.550049,
                    1085.349976,
                    1048.619995,
                    1157.349976,
                    1070.329956,
                    1166.27002,
                    1162.609985,
                    1115.52002,
                    1207.329956,
                    1193.98999,
                    1166.089966,
                    1070.709961,
                    1197.25,
                    1082.400024,
                    1205.380005,
                    1036.22998,
                    1044.689941,
                    1113.650024,
                    1169.949951,
                    1080.969971,
                    1088.300049,
                    1147.800049,
                    1120.160034,
                    1164.640015,
                    1023.880005,
                    1092.25,
                    1207.150024,
                    1040.089966,
                    1116.349976,
                    1173.310059,
                    1060.619995,
                    1119.920044,
                    1075.569946,
                    1051.75,
                    1101.160034,
                    1225.140015,
                    1097.949951,
                    1157.859985,
                    1207.77002,
                    1070.52002,
                    1138.849976,
                    1080.910034,
                    1055.810059,
                    1221.099976,
                    1173.98999,
                    1110.369995,
                    1138.819946,
                    1066.040039,
                    1140.98999,
                    1250.410034,
                    1086.22998,
                    1016.530029,
                    1066.150024,
                    1025.76001,
                    1036.579956,
                    1231.150024,
                    1037.079956
                  ]
                },
                {
                  "mode": "lines",
                  "name": "Predicted",
                  "type": "scatter",
                  "x": [
                    54,
                    66,
                    215,
                    171,
                    141,
                    57,
                    208,
                    178,
                    150,
                    248,
                    16,
                    166,
                    145,
                    129,
                    186,
                    160,
                    175,
                    51,
                    18,
                    61,
                    214,
                    68,
                    79,
                    1,
                    43,
                    67,
                    118,
                    9,
                    198,
                    36,
                    121,
                    185,
                    45,
                    91,
                    230,
                    250,
                    53,
                    117,
                    144,
                    114,
                    123,
                    237,
                    217,
                    64,
                    238,
                    24,
                    212,
                    156,
                    13,
                    125,
                    52,
                    170,
                    134,
                    167,
                    187,
                    102,
                    77,
                    148,
                    229,
                    233,
                    27,
                    176,
                    100,
                    94,
                    127,
                    23,
                    21,
                    172,
                    29,
                    147,
                    131,
                    46,
                    82,
                    101,
                    194,
                    234,
                    177,
                    6,
                    120,
                    14,
                    169,
                    84,
                    228,
                    3,
                    242,
                    113,
                    202,
                    139,
                    92,
                    58,
                    195,
                    130,
                    243,
                    47,
                    213,
                    26,
                    122,
                    86,
                    209,
                    155,
                    20,
                    193,
                    10,
                    30,
                    163,
                    218,
                    124,
                    207,
                    152,
                    97,
                    17,
                    232,
                    106,
                    116,
                    0,
                    236,
                    143,
                    199,
                    71,
                    146,
                    210,
                    73,
                    38,
                    103,
                    184,
                    180,
                    216,
                    7,
                    244,
                    28,
                    99,
                    164,
                    62,
                    8,
                    201,
                    105,
                    128,
                    246,
                    107,
                    76,
                    138,
                    126,
                    19,
                    72,
                    44,
                    162,
                    59,
                    225,
                    157,
                    115,
                    136,
                    111,
                    83,
                    49,
                    241,
                    221,
                    140,
                    5,
                    110,
                    192,
                    220,
                    60,
                    168,
                    247,
                    132,
                    40,
                    205,
                    137,
                    239,
                    75,
                    87,
                    63,
                    70,
                    81,
                    11,
                    95
                  ],
                  "y": [
                    1124.3719571339905,
                    1125.5608562892187,
                    1140.3230207999702,
                    1135.9637238974663,
                    1132.9914760093957,
                    1124.6691819227974,
                    1139.6294962927536,
                    1136.6572484046828,
                    1133.8831503758167,
                    1143.592493476848,
                    1120.6071098091006,
                    1135.4683492494546,
                    1133.387775727805,
                    1131.8025768541672,
                    1137.4498478415017,
                    1134.8738996718405,
                    1136.360023615876,
                    1124.0747323451833,
                    1120.8052596683056,
                    1125.0654816412068,
                    1140.2239458703677,
                    1125.7590061484234,
                    1126.8488303740494,
                    1119.1209858650654,
                    1123.2821329083645,
                    1125.659931218821,
                    1130.7127526285412,
                    1119.9135853018843,
                    1138.63874699673,
                    1122.588608401148,
                    1131.0099774173484,
                    1137.3507729118994,
                    1123.4802827675692,
                    1128.0377295292776,
                    1141.8091447440056,
                    1143.7906433360527,
                    1124.272882204388,
                    1130.613677698939,
                    1133.2887007982026,
                    1130.3164529101318,
                    1131.2081272765531,
                    1142.502669251222,
                    1140.521170659175,
                    1125.362706430014,
                    1142.6017441808244,
                    1121.3997092459197,
                    1140.025796011163,
                    1134.4775999534309,
                    1120.3098850202937,
                    1131.4062771357578,
                    1124.1738072747855,
                    1135.864648967864,
                    1132.297951502179,
                    1135.5674241790568,
                    1137.5489227711041,
                    1129.1275537549036,
                    1126.6506805148447,
                    1133.685000516612,
                    1141.7100698144031,
                    1142.1063695328126,
                    1121.6969340347266,
                    1136.4590985454781,
                    1128.929403895699,
                    1128.3349543180848,
                    1131.6044269949625,
                    1121.3006343163172,
                    1121.1024844571125,
                    1136.0627988270687,
                    1121.8950838939313,
                    1133.5859255870098,
                    1132.000726713372,
                    1123.5793576971714,
                    1127.1460551628563,
                    1129.0284788253011,
                    1138.2424472783207,
                    1142.205444462415,
                    1136.5581734750806,
                    1119.616360513077,
                    1130.910902487746,
                    1120.408959949896,
                    1135.7655740382615,
                    1127.344205022061,
                    1141.610994884801,
                    1119.3191357242702,
                    1142.9980438992338,
                    1130.2173779805296,
                    1139.0350467151395,
                    1132.7933261501908,
                    1128.13680445888,
                    1124.7682568523999,
                    1138.341522207923,
                    1131.9016517837697,
                    1143.097118828836,
                    1123.6784326267739,
                    1140.1248709407655,
                    1121.5978591051244,
                    1131.1090523469509,
                    1127.5423548812657,
                    1139.728571222356,
                    1134.3785250238286,
                    1121.0034095275103,
                    1138.1433723487182,
                    1120.0126602314865,
                    1121.9941588235338,
                    1135.1711244606474,
                    1140.6202455887772,
                    1131.3072022061556,
                    1139.5304213631512,
                    1134.0813002350214,
                    1128.6321791068917,
                    1120.706184738703,
                    1142.0072946032103,
                    1129.523853473313,
                    1130.5146027693365,
                    1119.021910935463,
                    1142.4035943216197,
                    1133.1896258686004,
                    1138.7378219263323,
                    1126.0562309372306,
                    1133.4868506574073,
                    1139.8276461519583,
                    1126.2543807964353,
                    1122.7867582603526,
                    1129.2266286845058,
                    1137.251697982297,
                    1136.8553982638875,
                    1140.4220957295724,
                    1119.7154354426796,
                    1143.1961937584385,
                    1121.796008964329,
                    1128.8303289660964,
                    1135.27019939025,
                    1125.1645565708093,
                    1119.8145103722818,
                    1138.935971785537,
                    1129.4247785437108,
                    1131.703501924565,
                    1143.3943436176432,
                    1129.6229284029155,
                    1126.5516055852422,
                    1132.6942512205885,
                    1131.5053520653603,
                    1120.9043345979078,
                    1126.1553058668328,
                    1123.3812078379667,
                    1135.0720495310452,
                    1124.867331782002,
                    1141.3137700959937,
                    1134.5766748830333,
                    1130.4155278397343,
                    1132.4961013613838,
                    1130.0192281213249,
                    1127.2451300924588,
                    1123.8765824859786,
                    1142.8989689696314,
                    1140.9174703775843,
                    1132.8924010797932,
                    1119.5172855834749,
                    1129.9201531917224,
                    1138.044297419116,
                    1140.8183954479819,
                    1124.9664067116046,
                    1135.6664991086593,
                    1143.4934185472457,
                    1132.0998016429744,
                    1122.9849081195573,
                    1139.3322715039465,
                    1132.595176290986,
                    1142.7008191104267,
                    1126.45253065564,
                    1127.6414298108682,
                    1125.2636315004115,
                    1125.957156007628,
                    1127.046980233254,
                    1120.111735161089,
                    1128.434029247687
                  ]
                }
              ],
              "layout": {
                "template": {
                  "data": {
                    "bar": [
                      {
                        "error_x": {
                          "color": "#2a3f5f"
                        },
                        "error_y": {
                          "color": "#2a3f5f"
                        },
                        "marker": {
                          "line": {
                            "color": "#E5ECF6",
                            "width": 0.5
                          },
                          "pattern": {
                            "fillmode": "overlay",
                            "size": 10,
                            "solidity": 0.2
                          }
                        },
                        "type": "bar"
                      }
                    ],
                    "barpolar": [
                      {
                        "marker": {
                          "line": {
                            "color": "#E5ECF6",
                            "width": 0.5
                          },
                          "pattern": {
                            "fillmode": "overlay",
                            "size": 10,
                            "solidity": 0.2
                          }
                        },
                        "type": "barpolar"
                      }
                    ],
                    "carpet": [
                      {
                        "aaxis": {
                          "endlinecolor": "#2a3f5f",
                          "gridcolor": "white",
                          "linecolor": "white",
                          "minorgridcolor": "white",
                          "startlinecolor": "#2a3f5f"
                        },
                        "baxis": {
                          "endlinecolor": "#2a3f5f",
                          "gridcolor": "white",
                          "linecolor": "white",
                          "minorgridcolor": "white",
                          "startlinecolor": "#2a3f5f"
                        },
                        "type": "carpet"
                      }
                    ],
                    "choropleth": [
                      {
                        "colorbar": {
                          "outlinewidth": 0,
                          "ticks": ""
                        },
                        "type": "choropleth"
                      }
                    ],
                    "contour": [
                      {
                        "colorbar": {
                          "outlinewidth": 0,
                          "ticks": ""
                        },
                        "colorscale": [
                          [
                            0,
                            "#0d0887"
                          ],
                          [
                            0.1111111111111111,
                            "#46039f"
                          ],
                          [
                            0.2222222222222222,
                            "#7201a8"
                          ],
                          [
                            0.3333333333333333,
                            "#9c179e"
                          ],
                          [
                            0.4444444444444444,
                            "#bd3786"
                          ],
                          [
                            0.5555555555555556,
                            "#d8576b"
                          ],
                          [
                            0.6666666666666666,
                            "#ed7953"
                          ],
                          [
                            0.7777777777777778,
                            "#fb9f3a"
                          ],
                          [
                            0.8888888888888888,
                            "#fdca26"
                          ],
                          [
                            1,
                            "#f0f921"
                          ]
                        ],
                        "type": "contour"
                      }
                    ],
                    "contourcarpet": [
                      {
                        "colorbar": {
                          "outlinewidth": 0,
                          "ticks": ""
                        },
                        "type": "contourcarpet"
                      }
                    ],
                    "heatmap": [
                      {
                        "colorbar": {
                          "outlinewidth": 0,
                          "ticks": ""
                        },
                        "colorscale": [
                          [
                            0,
                            "#0d0887"
                          ],
                          [
                            0.1111111111111111,
                            "#46039f"
                          ],
                          [
                            0.2222222222222222,
                            "#7201a8"
                          ],
                          [
                            0.3333333333333333,
                            "#9c179e"
                          ],
                          [
                            0.4444444444444444,
                            "#bd3786"
                          ],
                          [
                            0.5555555555555556,
                            "#d8576b"
                          ],
                          [
                            0.6666666666666666,
                            "#ed7953"
                          ],
                          [
                            0.7777777777777778,
                            "#fb9f3a"
                          ],
                          [
                            0.8888888888888888,
                            "#fdca26"
                          ],
                          [
                            1,
                            "#f0f921"
                          ]
                        ],
                        "type": "heatmap"
                      }
                    ],
                    "heatmapgl": [
                      {
                        "colorbar": {
                          "outlinewidth": 0,
                          "ticks": ""
                        },
                        "colorscale": [
                          [
                            0,
                            "#0d0887"
                          ],
                          [
                            0.1111111111111111,
                            "#46039f"
                          ],
                          [
                            0.2222222222222222,
                            "#7201a8"
                          ],
                          [
                            0.3333333333333333,
                            "#9c179e"
                          ],
                          [
                            0.4444444444444444,
                            "#bd3786"
                          ],
                          [
                            0.5555555555555556,
                            "#d8576b"
                          ],
                          [
                            0.6666666666666666,
                            "#ed7953"
                          ],
                          [
                            0.7777777777777778,
                            "#fb9f3a"
                          ],
                          [
                            0.8888888888888888,
                            "#fdca26"
                          ],
                          [
                            1,
                            "#f0f921"
                          ]
                        ],
                        "type": "heatmapgl"
                      }
                    ],
                    "histogram": [
                      {
                        "marker": {
                          "pattern": {
                            "fillmode": "overlay",
                            "size": 10,
                            "solidity": 0.2
                          }
                        },
                        "type": "histogram"
                      }
                    ],
                    "histogram2d": [
                      {
                        "colorbar": {
                          "outlinewidth": 0,
                          "ticks": ""
                        },
                        "colorscale": [
                          [
                            0,
                            "#0d0887"
                          ],
                          [
                            0.1111111111111111,
                            "#46039f"
                          ],
                          [
                            0.2222222222222222,
                            "#7201a8"
                          ],
                          [
                            0.3333333333333333,
                            "#9c179e"
                          ],
                          [
                            0.4444444444444444,
                            "#bd3786"
                          ],
                          [
                            0.5555555555555556,
                            "#d8576b"
                          ],
                          [
                            0.6666666666666666,
                            "#ed7953"
                          ],
                          [
                            0.7777777777777778,
                            "#fb9f3a"
                          ],
                          [
                            0.8888888888888888,
                            "#fdca26"
                          ],
                          [
                            1,
                            "#f0f921"
                          ]
                        ],
                        "type": "histogram2d"
                      }
                    ],
                    "histogram2dcontour": [
                      {
                        "colorbar": {
                          "outlinewidth": 0,
                          "ticks": ""
                        },
                        "colorscale": [
                          [
                            0,
                            "#0d0887"
                          ],
                          [
                            0.1111111111111111,
                            "#46039f"
                          ],
                          [
                            0.2222222222222222,
                            "#7201a8"
                          ],
                          [
                            0.3333333333333333,
                            "#9c179e"
                          ],
                          [
                            0.4444444444444444,
                            "#bd3786"
                          ],
                          [
                            0.5555555555555556,
                            "#d8576b"
                          ],
                          [
                            0.6666666666666666,
                            "#ed7953"
                          ],
                          [
                            0.7777777777777778,
                            "#fb9f3a"
                          ],
                          [
                            0.8888888888888888,
                            "#fdca26"
                          ],
                          [
                            1,
                            "#f0f921"
                          ]
                        ],
                        "type": "histogram2dcontour"
                      }
                    ],
                    "mesh3d": [
                      {
                        "colorbar": {
                          "outlinewidth": 0,
                          "ticks": ""
                        },
                        "type": "mesh3d"
                      }
                    ],
                    "parcoords": [
                      {
                        "line": {
                          "colorbar": {
                            "outlinewidth": 0,
                            "ticks": ""
                          }
                        },
                        "type": "parcoords"
                      }
                    ],
                    "pie": [
                      {
                        "automargin": true,
                        "type": "pie"
                      }
                    ],
                    "scatter": [
                      {
                        "fillpattern": {
                          "fillmode": "overlay",
                          "size": 10,
                          "solidity": 0.2
                        },
                        "type": "scatter"
                      }
                    ],
                    "scatter3d": [
                      {
                        "line": {
                          "colorbar": {
                            "outlinewidth": 0,
                            "ticks": ""
                          }
                        },
                        "marker": {
                          "colorbar": {
                            "outlinewidth": 0,
                            "ticks": ""
                          }
                        },
                        "type": "scatter3d"
                      }
                    ],
                    "scattercarpet": [
                      {
                        "marker": {
                          "colorbar": {
                            "outlinewidth": 0,
                            "ticks": ""
                          }
                        },
                        "type": "scattercarpet"
                      }
                    ],
                    "scattergeo": [
                      {
                        "marker": {
                          "colorbar": {
                            "outlinewidth": 0,
                            "ticks": ""
                          }
                        },
                        "type": "scattergeo"
                      }
                    ],
                    "scattergl": [
                      {
                        "marker": {
                          "colorbar": {
                            "outlinewidth": 0,
                            "ticks": ""
                          }
                        },
                        "type": "scattergl"
                      }
                    ],
                    "scattermapbox": [
                      {
                        "marker": {
                          "colorbar": {
                            "outlinewidth": 0,
                            "ticks": ""
                          }
                        },
                        "type": "scattermapbox"
                      }
                    ],
                    "scatterpolar": [
                      {
                        "marker": {
                          "colorbar": {
                            "outlinewidth": 0,
                            "ticks": ""
                          }
                        },
                        "type": "scatterpolar"
                      }
                    ],
                    "scatterpolargl": [
                      {
                        "marker": {
                          "colorbar": {
                            "outlinewidth": 0,
                            "ticks": ""
                          }
                        },
                        "type": "scatterpolargl"
                      }
                    ],
                    "scatterternary": [
                      {
                        "marker": {
                          "colorbar": {
                            "outlinewidth": 0,
                            "ticks": ""
                          }
                        },
                        "type": "scatterternary"
                      }
                    ],
                    "surface": [
                      {
                        "colorbar": {
                          "outlinewidth": 0,
                          "ticks": ""
                        },
                        "colorscale": [
                          [
                            0,
                            "#0d0887"
                          ],
                          [
                            0.1111111111111111,
                            "#46039f"
                          ],
                          [
                            0.2222222222222222,
                            "#7201a8"
                          ],
                          [
                            0.3333333333333333,
                            "#9c179e"
                          ],
                          [
                            0.4444444444444444,
                            "#bd3786"
                          ],
                          [
                            0.5555555555555556,
                            "#d8576b"
                          ],
                          [
                            0.6666666666666666,
                            "#ed7953"
                          ],
                          [
                            0.7777777777777778,
                            "#fb9f3a"
                          ],
                          [
                            0.8888888888888888,
                            "#fdca26"
                          ],
                          [
                            1,
                            "#f0f921"
                          ]
                        ],
                        "type": "surface"
                      }
                    ],
                    "table": [
                      {
                        "cells": {
                          "fill": {
                            "color": "#EBF0F8"
                          },
                          "line": {
                            "color": "white"
                          }
                        },
                        "header": {
                          "fill": {
                            "color": "#C8D4E3"
                          },
                          "line": {
                            "color": "white"
                          }
                        },
                        "type": "table"
                      }
                    ]
                  },
                  "layout": {
                    "annotationdefaults": {
                      "arrowcolor": "#2a3f5f",
                      "arrowhead": 0,
                      "arrowwidth": 1
                    },
                    "autotypenumbers": "strict",
                    "coloraxis": {
                      "colorbar": {
                        "outlinewidth": 0,
                        "ticks": ""
                      }
                    },
                    "colorscale": {
                      "diverging": [
                        [
                          0,
                          "#8e0152"
                        ],
                        [
                          0.1,
                          "#c51b7d"
                        ],
                        [
                          0.2,
                          "#de77ae"
                        ],
                        [
                          0.3,
                          "#f1b6da"
                        ],
                        [
                          0.4,
                          "#fde0ef"
                        ],
                        [
                          0.5,
                          "#f7f7f7"
                        ],
                        [
                          0.6,
                          "#e6f5d0"
                        ],
                        [
                          0.7,
                          "#b8e186"
                        ],
                        [
                          0.8,
                          "#7fbc41"
                        ],
                        [
                          0.9,
                          "#4d9221"
                        ],
                        [
                          1,
                          "#276419"
                        ]
                      ],
                      "sequential": [
                        [
                          0,
                          "#0d0887"
                        ],
                        [
                          0.1111111111111111,
                          "#46039f"
                        ],
                        [
                          0.2222222222222222,
                          "#7201a8"
                        ],
                        [
                          0.3333333333333333,
                          "#9c179e"
                        ],
                        [
                          0.4444444444444444,
                          "#bd3786"
                        ],
                        [
                          0.5555555555555556,
                          "#d8576b"
                        ],
                        [
                          0.6666666666666666,
                          "#ed7953"
                        ],
                        [
                          0.7777777777777778,
                          "#fb9f3a"
                        ],
                        [
                          0.8888888888888888,
                          "#fdca26"
                        ],
                        [
                          1,
                          "#f0f921"
                        ]
                      ],
                      "sequentialminus": [
                        [
                          0,
                          "#0d0887"
                        ],
                        [
                          0.1111111111111111,
                          "#46039f"
                        ],
                        [
                          0.2222222222222222,
                          "#7201a8"
                        ],
                        [
                          0.3333333333333333,
                          "#9c179e"
                        ],
                        [
                          0.4444444444444444,
                          "#bd3786"
                        ],
                        [
                          0.5555555555555556,
                          "#d8576b"
                        ],
                        [
                          0.6666666666666666,
                          "#ed7953"
                        ],
                        [
                          0.7777777777777778,
                          "#fb9f3a"
                        ],
                        [
                          0.8888888888888888,
                          "#fdca26"
                        ],
                        [
                          1,
                          "#f0f921"
                        ]
                      ]
                    },
                    "colorway": [
                      "#636efa",
                      "#EF553B",
                      "#00cc96",
                      "#ab63fa",
                      "#FFA15A",
                      "#19d3f3",
                      "#FF6692",
                      "#B6E880",
                      "#FF97FF",
                      "#FECB52"
                    ],
                    "font": {
                      "color": "#2a3f5f"
                    },
                    "geo": {
                      "bgcolor": "white",
                      "lakecolor": "white",
                      "landcolor": "#E5ECF6",
                      "showlakes": true,
                      "showland": true,
                      "subunitcolor": "white"
                    },
                    "hoverlabel": {
                      "align": "left"
                    },
                    "hovermode": "closest",
                    "mapbox": {
                      "style": "light"
                    },
                    "paper_bgcolor": "white",
                    "plot_bgcolor": "#E5ECF6",
                    "polar": {
                      "angularaxis": {
                        "gridcolor": "white",
                        "linecolor": "white",
                        "ticks": ""
                      },
                      "bgcolor": "#E5ECF6",
                      "radialaxis": {
                        "gridcolor": "white",
                        "linecolor": "white",
                        "ticks": ""
                      }
                    },
                    "scene": {
                      "xaxis": {
                        "backgroundcolor": "#E5ECF6",
                        "gridcolor": "white",
                        "gridwidth": 2,
                        "linecolor": "white",
                        "showbackground": true,
                        "ticks": "",
                        "zerolinecolor": "white"
                      },
                      "yaxis": {
                        "backgroundcolor": "#E5ECF6",
                        "gridcolor": "white",
                        "gridwidth": 2,
                        "linecolor": "white",
                        "showbackground": true,
                        "ticks": "",
                        "zerolinecolor": "white"
                      },
                      "zaxis": {
                        "backgroundcolor": "#E5ECF6",
                        "gridcolor": "white",
                        "gridwidth": 2,
                        "linecolor": "white",
                        "showbackground": true,
                        "ticks": "",
                        "zerolinecolor": "white"
                      }
                    },
                    "shapedefaults": {
                      "line": {
                        "color": "#2a3f5f"
                      }
                    },
                    "ternary": {
                      "aaxis": {
                        "gridcolor": "white",
                        "linecolor": "white",
                        "ticks": ""
                      },
                      "baxis": {
                        "gridcolor": "white",
                        "linecolor": "white",
                        "ticks": ""
                      },
                      "bgcolor": "#E5ECF6",
                      "caxis": {
                        "gridcolor": "white",
                        "linecolor": "white",
                        "ticks": ""
                      }
                    },
                    "title": {
                      "x": 0.05
                    },
                    "xaxis": {
                      "automargin": true,
                      "gridcolor": "white",
                      "linecolor": "white",
                      "ticks": "",
                      "title": {
                        "standoff": 15
                      },
                      "zerolinecolor": "white",
                      "zerolinewidth": 2
                    },
                    "yaxis": {
                      "automargin": true,
                      "gridcolor": "white",
                      "linecolor": "white",
                      "ticks": "",
                      "title": {
                        "standoff": 15
                      },
                      "zerolinecolor": "white",
                      "zerolinewidth": 2
                    }
                  }
                },
                "title": {
                  "text": "Stock Prices of Google"
                },
                "xaxis": {
                  "title": {
                    "font": {
                      "color": "#7f7f7f",
                      "family": "Courier New, monospace",
                      "size": 18
                    },
                    "text": "Day"
                  }
                },
                "yaxis": {
                  "title": {
                    "font": {
                      "color": "#7f7f7f",
                      "family": "Courier New, monospace",
                      "size": 18
                    },
                    "text": "Price"
                  }
                }
              }
            }
          },
          "metadata": {},
          "output_type": "display_data"
        }
      ],
      "source": [
        "plot2.show()"
      ]
    },
    {
      "attachments": {},
      "cell_type": "markdown",
      "metadata": {},
      "source": [
        "Calculate scores for model evaluation"
      ]
    },
    {
      "cell_type": "code",
      "execution_count": 16,
      "metadata": {
        "colab": {
          "base_uri": "https://localhost:8080/"
        },
        "id": "fpfGY2nGrc1i",
        "outputId": "b5620a06-dd29-460e-dabb-92b432a9ede0"
      },
      "outputs": [
        {
          "name": "stdout",
          "output_type": "stream",
          "text": [
            "\n",
            "Metric           Train                Test        \n",
            "r2_score  0.01231554493546505\t0.01166086633353891\n",
            "MSE       4103.702123160195\t4223.731803577232\n",
            "\n"
          ]
        }
      ],
      "source": [
        "scores = f'''\n",
        "{'Metric'.ljust(10)}{'Train'.center(20)}{'Test'.center(20)}\n",
        "{'r2_score'.ljust(10)}{r2_score(Y_train, lm.predict(X_train))}\\t{r2_score(Y_test, lm.predict(X_test))}\n",
        "{'MSE'.ljust(10)}{mse(Y_train, lm.predict(X_train))}\\t{mse(Y_test, lm.predict(X_test))}\n",
        "'''\n",
        "print(scores)"
      ]
    },
    {
      "attachments": {},
      "cell_type": "markdown",
      "metadata": {},
      "source": [
        "End"
      ]
    }
  ],
  "metadata": {
    "colab": {
      "provenance": []
    },
    "kernelspec": {
      "display_name": "Python 3",
      "language": "python",
      "name": "python3"
    },
    "language_info": {
      "codemirror_mode": {
        "name": "ipython",
        "version": 3
      },
      "file_extension": ".py",
      "mimetype": "text/x-python",
      "name": "python",
      "nbconvert_exporter": "python",
      "pygments_lexer": "ipython3",
      "version": "3.10.8"
    }
  },
  "nbformat": 4,
  "nbformat_minor": 0
}
